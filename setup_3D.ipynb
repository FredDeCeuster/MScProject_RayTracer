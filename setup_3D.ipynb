{
 "cells": [
  {
   "cell_type": "markdown",
   "id": "ce67eaad-b7b3-4f25-9807-9b293b34484c",
   "metadata": {},
   "source": [
    "# Ray-tracer setup (3D)\n",
    "---"
   ]
  },
  {
   "cell_type": "code",
   "execution_count": 1,
   "id": "eb41b4e1-7312-47d2-b479-0027a4f694db",
   "metadata": {},
   "outputs": [],
   "source": [
    "model_name = 'model.txt'"
   ]
  },
  {
   "cell_type": "markdown",
   "id": "0a4a05c1-5a75-4530-a0de-e5019b424b93",
   "metadata": {},
   "source": [
    "Download ascii output of Jolien's cool Phantom model."
   ]
  },
  {
   "cell_type": "code",
   "execution_count": 2,
   "id": "76144a60-a57a-439a-879b-cd4d367aa0fd",
   "metadata": {},
   "outputs": [
    {
     "name": "stdout",
     "output_type": "stream",
     "text": [
      "--2021-10-14 09:31:11--  https://owncloud.ster.kuleuven.be/index.php/s/6mCZjZ2erTsXq5Y/download\n",
      "Resolving owncloud.ster.kuleuven.be (owncloud.ster.kuleuven.be)... 134.58.130.75\n",
      "Connecting to owncloud.ster.kuleuven.be (owncloud.ster.kuleuven.be)|134.58.130.75|:443... connected.\n",
      "HTTP request sent, awaiting response... 200 OK\n",
      "Length: 388714637 (371M) [application/octet-stream]\n",
      "Saving to: ‘model.txt’\n",
      "\n",
      "model.txt           100%[===================>] 370.71M  10.9MB/s    in 36s     \n",
      "\n",
      "2021-10-14 09:31:47 (10.4 MB/s) - ‘model.txt’ saved [388714637/388714637]\n",
      "\n"
     ]
    }
   ],
   "source": [
    "! wget https://owncloud.ster.kuleuven.be/index.php/s/6mCZjZ2erTsXq5Y/download -O $model_name"
   ]
  },
  {
   "cell_type": "code",
   "execution_count": 3,
   "id": "79bbe4e2-5aca-404e-a0e0-186d04fd2cd9",
   "metadata": {},
   "outputs": [],
   "source": [
    "import matplotlib.pyplot as plt\n",
    "import numpy             as np\n",
    "import healpy            as hp\n",
    "import k3d\n",
    "\n",
    "from scipy.spatial import Delaunay, cKDTree   # Finding neighbors"
   ]
  },
  {
   "cell_type": "code",
   "execution_count": 4,
   "id": "08d13a11-723d-4124-bcda-72929e36a23f",
   "metadata": {},
   "outputs": [],
   "source": [
    "# Read only the coordinate of the points in the file\n",
    "(x,y,z, density) = np.loadtxt(model_name, skiprows=14, usecols=(0,1,2,5), unpack=True)\n",
    "# Put them in a nice numpy array\n",
    "points = np.array((x,y,z)).transpose()\n",
    "# Convert density to cgs units (see model file)\n",
    "density *= 5.941031250291510e-07\n",
    "# Create a Delaunay tetrahedralisation of the points\n",
    "# (We use this to find the nearest neighbors)\n",
    "# https://en.wikipedia.org/wiki/Delaunay_triangulation\n",
    "delaunay = Delaunay(points)"
   ]
  },
  {
   "cell_type": "markdown",
   "id": "94472f2a-5175-410e-9adf-2bfda37ec545",
   "metadata": {
    "tags": []
   },
   "source": [
    "## Extracting nearset neighbours"
   ]
  },
  {
   "cell_type": "code",
   "execution_count": 4,
   "id": "cbc9d802-8fab-47ab-b8c3-94affee12d1f",
   "metadata": {},
   "outputs": [],
   "source": [
    "# Extract Delaunay vertices (= Voronoi neighbors)\n",
    "(indptr, indices) = delaunay.vertex_neighbor_vertices\n",
    "neighbors = [list(indices[indptr[k]:indptr[k+1]]) for k in range(len(points))]\n",
    "# neighbours is now a list of lists in which the i'th lists containts the list\n",
    "# of indices of the nearest neighbours of the i'th particle."
   ]
  },
  {
   "cell_type": "markdown",
   "id": "da1b054a-9288-4fa1-bbe5-8ba83069828e",
   "metadata": {
    "tags": []
   },
   "source": [
    "## Defining ray directions"
   ]
  },
  {
   "cell_type": "code",
   "execution_count": 49,
   "id": "85624963-6d3f-401e-b13e-ab202b1a8b08",
   "metadata": {},
   "outputs": [],
   "source": [
    "# Healpix requires the number of rays to be of the form 12*n^2\n",
    "# See also https://healpy.readthedocs.io/en/latest/\n",
    "nsides = 4\n",
    "nrays  = 12*nsides**2\n",
    "dirs   = hp.pixelfunc.pix2vec(hp.npix2nside(nrays), range(nrays))\n",
    "dirs   = np.array(dirs).transpose()"
   ]
  },
  {
   "cell_type": "markdown",
   "id": "031a0f7e-bc14-472b-8a68-459c74ebf8a2",
   "metadata": {},
   "source": [
    "## Attemt to 3D visualisation\n",
    "Any tips or help to make this better very welcome!"
   ]
  },
  {
   "cell_type": "code",
   "execution_count": 46,
   "id": "93ac43de-028d-4921-af1c-3bafd6b56c23",
   "metadata": {},
   "outputs": [
    {
     "data": {
      "application/vnd.jupyter.widget-view+json": {
       "model_id": "37fa6c2aaf8d42f6a937d970b16ce74c",
       "version_major": 2,
       "version_minor": 0
      },
      "text/plain": [
       "Output()"
      ]
     },
     "metadata": {},
     "output_type": "display_data"
    }
   ],
   "source": [
    "# Remove last two points (they have 0 density)\n",
    "density = density[:-2]\n",
    "points  = points [:-2]\n",
    "\n",
    "# Rescale to log scale to simplify plotting\n",
    "ldens = np.log10(density).astype(np.float32)\n",
    "minld = np.min(ldens)\n",
    "maxld = np.max(ldens)\n",
    "\n",
    "# Visualise the points\n",
    "plot = k3d.plot(name='points')\n",
    "plt_points = k3d.points(positions=points.astype(np.float32),\n",
    "                        colors=ldens,\n",
    "                        attribute=ldens,\n",
    "                        opacity_function=[minld,maxld],\n",
    "                        color_range=[minld,maxld],\n",
    "                        shader='3dSpecular',\n",
    "                        opacity=0.5)\n",
    "plot += plt_points\n",
    "plot.display()"
   ]
  }
 ],
 "metadata": {
  "kernelspec": {
   "display_name": "Python 3 (ipykernel)",
   "language": "python",
   "name": "python3"
  },
  "language_info": {
   "codemirror_mode": {
    "name": "ipython",
    "version": 3
   },
   "file_extension": ".py",
   "mimetype": "text/x-python",
   "name": "python",
   "nbconvert_exporter": "python",
   "pygments_lexer": "ipython3",
   "version": "3.9.7"
  }
 },
 "nbformat": 4,
 "nbformat_minor": 5
}
