{
 "cells": [
  {
   "cell_type": "markdown",
   "id": "ce67eaad-b7b3-4f25-9807-9b293b34484c",
   "metadata": {},
   "source": [
    "# Ray-tracer setup\n",
    "---"
   ]
  },
  {
   "cell_type": "code",
   "execution_count": 1,
   "id": "eb41b4e1-7312-47d2-b479-0027a4f694db",
   "metadata": {},
   "outputs": [],
   "source": [
    "model_name = 'model.txt'"
   ]
  },
  {
   "cell_type": "markdown",
   "id": "0a4a05c1-5a75-4530-a0de-e5019b424b93",
   "metadata": {},
   "source": [
    "Download ascii output of Jolien's cool Phantom model."
   ]
  },
  {
   "cell_type": "code",
   "execution_count": 2,
   "id": "76144a60-a57a-439a-879b-cd4d367aa0fd",
   "metadata": {},
   "outputs": [],
   "source": [
    "# ! wget https://owncloud.ster.kuleuven.be/index.php/s/6mCZjZ2erTsXq5Y/download -O $model_name"
   ]
  },
  {
   "cell_type": "code",
   "execution_count": 2,
   "id": "79bbe4e2-5aca-404e-a0e0-186d04fd2cd9",
   "metadata": {},
   "outputs": [],
   "source": [
    "import numpy as np\n",
    "import k3d\n",
    "\n",
    "from scipy.spatial import Delaunay, cKDTree   # Finding neighbors"
   ]
  },
  {
   "cell_type": "code",
   "execution_count": 6,
   "id": "7bfe52b0-09da-40b6-bffc-e7dee85fdbab",
   "metadata": {},
   "outputs": [],
   "source": [
    "# Read only the coordinate of the points in the file\n",
    "(x,y,z, density) = np.loadtxt(model_name, skiprows=14, usecols=(0,1,2,5), unpack=True)\n",
    "# Put them in a nice numpy array\n",
    "points = np.array((x,y,z)).transpose()\n",
    "# Convert density to cgs units (see model file)\n",
    "density *= 5.941031250291510e-07"
   ]
  },
  {
   "cell_type": "code",
   "execution_count": 5,
   "id": "13c575d7-848e-4ba0-9097-f2add6d98c3c",
   "metadata": {},
   "outputs": [],
   "source": [
    "# Create a Delaunay tetrahedralisation of the points\n",
    "# (We use this to find the nearest neighbors)\n",
    "# https://en.wikipedia.org/wiki/Delaunay_triangulation\n",
    "delaunay = Delaunay(points)"
   ]
  },
  {
   "cell_type": "code",
   "execution_count": 6,
   "id": "63cd5abe-245a-45c9-a4b6-c1c66b26a54d",
   "metadata": {},
   "outputs": [],
   "source": [
    "# Extract Delaunay vertices (= Voronoi neighbors)\n",
    "(indptr, indices) = delaunay.vertex_neighbor_vertices\n",
    "neighbors = [list(indices[indptr[k]:indptr[k+1]]) for k in range(len(points))]\n",
    "# neighbours is now a list of lists in which the i'th lists containts the list\n",
    "# of indices of the nearest neighbours of the i'th particle."
   ]
  },
  {
   "cell_type": "code",
   "execution_count": 7,
   "id": "93ac43de-028d-4921-af1c-3bafd6b56c23",
   "metadata": {},
   "outputs": [
    {
     "data": {
      "application/vnd.jupyter.widget-view+json": {
       "model_id": "01c17ca100cf493c8387835b5c539c26",
       "version_major": 2,
       "version_minor": 0
      },
      "text/plain": [
       "Output()"
      ]
     },
     "metadata": {},
     "output_type": "display_data"
    }
   ],
   "source": [
    "# Visualise the points\n",
    "plot = k3d.plot(name='points')\n",
    "plt_points = k3d.points(positions=points.astype(np.float32))\n",
    "plot += plt_points\n",
    "plt_points.shader='3d'\n",
    "plot.display()"
   ]
  },
  {
   "cell_type": "markdown",
   "id": "2d1c4db4-7e5a-4032-9781-28d249916d48",
   "metadata": {},
   "source": [
    "# Attempt to make volume rendering of the model"
   ]
  },
  {
   "cell_type": "code",
   "execution_count": 10,
   "id": "630a3abf-a8ac-4118-a9aa-4a4dda9ee271",
   "metadata": {},
   "outputs": [],
   "source": [
    "from scipy.interpolate import griddata\n",
    "#\n",
    "ngridx = 100\n",
    "ngridy = 100\n",
    "ngridz = 100\n",
    "\n",
    "# Create image grid values\n",
    "xs = np.linspace(np.min(x), np.max(x), ngridx)\n",
    "ys = np.linspace(np.min(y), np.max(y), ngridy)\n",
    "zs = np.linspace(np.min(z), np.max(z), ngridz)\n",
    "\n",
    "cube = griddata((x, y, z), density, (xs[None,None,:], ys[None,:,None], zs[:,None,None]), method='nearest')"
   ]
  },
  {
   "cell_type": "code",
   "execution_count": 20,
   "id": "de3021d5-0781-4040-ab83-e7ba52f2e094",
   "metadata": {},
   "outputs": [
    {
     "data": {
      "application/vnd.jupyter.widget-view+json": {
       "model_id": "84b3023574e440ee911152cd61b02c41",
       "version_major": 2,
       "version_minor": 0
      },
      "text/plain": [
       "Output()"
      ]
     },
     "metadata": {},
     "output_type": "display_data"
    }
   ],
   "source": [
    "plot = k3d.plot()\n",
    "\n",
    "\n",
    "volume = k3d.volume(\n",
    "    cube.astype(np.float32),\n",
    "    # alpha_coef=1000,\n",
    "    # shadow='off', #dynamic is a fancy option but require a good GPU\n",
    "    # samples=600,\n",
    "    # shadow_res=128,\n",
    "    # shadow_delay=50,\n",
    "    # color_range=[150, 750],\n",
    "    # color_map=(np.array(k3d.colormaps.matplotlib_color_maps.Gist_heat).reshape(-1, 4)\n",
    "    #            * np.array([1, 1.75, 1.75, 1.75])).astype(np.float32)\n",
    ")\n",
    "\n",
    "volume.transform.bounds = [np.min(x), np.max(x),\n",
    "                           np.min(y), np.max(y),\n",
    "                           np.min(z), np.max(z)]\n",
    "plot.display()"
   ]
  },
  {
   "cell_type": "code",
   "execution_count": null,
   "id": "d1ba3fd1-ed6d-4401-8feb-c31a39d6a972",
   "metadata": {},
   "outputs": [],
   "source": []
  }
 ],
 "metadata": {
  "kernelspec": {
   "display_name": "Python 3 (ipykernel)",
   "language": "python",
   "name": "python3"
  },
  "language_info": {
   "codemirror_mode": {
    "name": "ipython",
    "version": 3
   },
   "file_extension": ".py",
   "mimetype": "text/x-python",
   "name": "python",
   "nbconvert_exporter": "python",
   "pygments_lexer": "ipython3",
   "version": "3.9.7"
  }
 },
 "nbformat": 4,
 "nbformat_minor": 5
}
